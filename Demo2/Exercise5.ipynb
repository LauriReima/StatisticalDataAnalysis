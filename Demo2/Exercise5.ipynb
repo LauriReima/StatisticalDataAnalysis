{
 "cells": [
  {
   "cell_type": "code",
   "execution_count": 108,
   "id": "36cf7475-7ca4-4a2c-8e0a-272ff58b5e2f",
   "metadata": {},
   "outputs": [],
   "source": [
    "import pandas as pd\n",
    "import numpy as np\n",
    "import scipy as sci"
   ]
  },
  {
   "cell_type": "code",
   "execution_count": 95,
   "id": "5ee03022-3bd8-4362-be8e-107604f4f239",
   "metadata": {},
   "outputs": [],
   "source": [
    "year = []\n",
    "no_smoothing = []\n",
    "lowess = []\n",
    "with open('data.txt', 'r') as data:\n",
    "    lines = data.readlines()\n",
    "    for line in lines:\n",
    "        if line[0] == '1' or line[0] == '2':\n",
    "            new_line = line.split()\n",
    "            year.append(int(new_line[0]))\n",
    "            no_smoothing.append(float(new_line[1]))\n",
    "            lowess.append(float(new_line[2]))"
   ]
  },
  {
   "cell_type": "code",
   "execution_count": 96,
   "id": "46f70529-0a42-46e8-8e35-f6e3ca5fa9bd",
   "metadata": {},
   "outputs": [],
   "source": [
    "data = pd.DataFrame({'year':year, 'no_smoothing': no_smoothing, 'lowess': lowess})"
   ]
  },
  {
   "cell_type": "code",
   "execution_count": 97,
   "id": "58bff583-ae08-4d09-b605-c701ae199c3c",
   "metadata": {},
   "outputs": [
    {
     "data": {
      "text/html": [
       "<div>\n",
       "<style scoped>\n",
       "    .dataframe tbody tr th:only-of-type {\n",
       "        vertical-align: middle;\n",
       "    }\n",
       "\n",
       "    .dataframe tbody tr th {\n",
       "        vertical-align: top;\n",
       "    }\n",
       "\n",
       "    .dataframe thead th {\n",
       "        text-align: right;\n",
       "    }\n",
       "</style>\n",
       "<table border=\"1\" class=\"dataframe\">\n",
       "  <thead>\n",
       "    <tr style=\"text-align: right;\">\n",
       "      <th></th>\n",
       "      <th>year</th>\n",
       "      <th>no_smoothing</th>\n",
       "      <th>lowess</th>\n",
       "    </tr>\n",
       "  </thead>\n",
       "  <tbody>\n",
       "    <tr>\n",
       "      <th>0</th>\n",
       "      <td>1880</td>\n",
       "      <td>-0.17</td>\n",
       "      <td>-0.09</td>\n",
       "    </tr>\n",
       "    <tr>\n",
       "      <th>1</th>\n",
       "      <td>1881</td>\n",
       "      <td>-0.08</td>\n",
       "      <td>-0.13</td>\n",
       "    </tr>\n",
       "    <tr>\n",
       "      <th>2</th>\n",
       "      <td>1882</td>\n",
       "      <td>-0.11</td>\n",
       "      <td>-0.17</td>\n",
       "    </tr>\n",
       "    <tr>\n",
       "      <th>3</th>\n",
       "      <td>1883</td>\n",
       "      <td>-0.18</td>\n",
       "      <td>-0.20</td>\n",
       "    </tr>\n",
       "    <tr>\n",
       "      <th>4</th>\n",
       "      <td>1884</td>\n",
       "      <td>-0.28</td>\n",
       "      <td>-0.24</td>\n",
       "    </tr>\n",
       "    <tr>\n",
       "      <th>...</th>\n",
       "      <td>...</td>\n",
       "      <td>...</td>\n",
       "      <td>...</td>\n",
       "    </tr>\n",
       "    <tr>\n",
       "      <th>137</th>\n",
       "      <td>2017</td>\n",
       "      <td>0.92</td>\n",
       "      <td>0.91</td>\n",
       "    </tr>\n",
       "    <tr>\n",
       "      <th>138</th>\n",
       "      <td>2018</td>\n",
       "      <td>0.85</td>\n",
       "      <td>0.92</td>\n",
       "    </tr>\n",
       "    <tr>\n",
       "      <th>139</th>\n",
       "      <td>2019</td>\n",
       "      <td>0.98</td>\n",
       "      <td>0.93</td>\n",
       "    </tr>\n",
       "    <tr>\n",
       "      <th>140</th>\n",
       "      <td>2020</td>\n",
       "      <td>1.01</td>\n",
       "      <td>0.93</td>\n",
       "    </tr>\n",
       "    <tr>\n",
       "      <th>141</th>\n",
       "      <td>2021</td>\n",
       "      <td>0.84</td>\n",
       "      <td>0.93</td>\n",
       "    </tr>\n",
       "  </tbody>\n",
       "</table>\n",
       "<p>142 rows × 3 columns</p>\n",
       "</div>"
      ],
      "text/plain": [
       "     year  no_smoothing  lowess\n",
       "0    1880         -0.17   -0.09\n",
       "1    1881         -0.08   -0.13\n",
       "2    1882         -0.11   -0.17\n",
       "3    1883         -0.18   -0.20\n",
       "4    1884         -0.28   -0.24\n",
       "..    ...           ...     ...\n",
       "137  2017          0.92    0.91\n",
       "138  2018          0.85    0.92\n",
       "139  2019          0.98    0.93\n",
       "140  2020          1.01    0.93\n",
       "141  2021          0.84    0.93\n",
       "\n",
       "[142 rows x 3 columns]"
      ]
     },
     "execution_count": 97,
     "metadata": {},
     "output_type": "execute_result"
    }
   ],
   "source": [
    "data"
   ]
  },
  {
   "cell_type": "code",
   "execution_count": 98,
   "id": "9a7eab02-a14a-4d00-b63c-b1a274140db7",
   "metadata": {},
   "outputs": [],
   "source": [
    "ns = data['no_smoothing']"
   ]
  },
  {
   "cell_type": "code",
   "execution_count": 99,
   "id": "63bea95d-c8bf-4654-95c5-d00ff1cefde0",
   "metadata": {},
   "outputs": [
    {
     "data": {
      "text/plain": [
       "0.053169014084507096"
      ]
     },
     "execution_count": 99,
     "metadata": {},
     "output_type": "execute_result"
    }
   ],
   "source": [
    "np.mean(ns)"
   ]
  },
  {
   "cell_type": "code",
   "execution_count": 100,
   "id": "6fbc382d-43c9-4b12-ba39-884bcaac6e66",
   "metadata": {},
   "outputs": [
    {
     "data": {
      "text/plain": [
       "-0.065"
      ]
     },
     "execution_count": 100,
     "metadata": {},
     "output_type": "execute_result"
    }
   ],
   "source": [
    "np.median(ns)"
   ]
  },
  {
   "cell_type": "code",
   "execution_count": 101,
   "id": "44e7fdfc-1dbd-4bf9-84a5-3de7309519fd",
   "metadata": {},
   "outputs": [
    {
     "data": {
      "text/plain": [
       "<Axes: ylabel='Density'>"
      ]
     },
     "execution_count": 101,
     "metadata": {},
     "output_type": "execute_result"
    },
    {
     "data": {
      "image/png": "[encoded data removed]",
      "text/plain": [
       "<Figure size 640x480 with 1 Axes>"
      ]
     },
     "metadata": {},
     "output_type": "display_data"
    }
   ],
   "source": [
    "ns.plot(kind= 'density')"
   ]
  },
  {
   "cell_type": "code",
   "execution_count": 102,
   "id": "c6c145fd-2035-43cf-a24b-85324e2e855d",
   "metadata": {},
   "outputs": [],
   "source": [
    "# only years before 2000\n"
   ]
  },
  {
   "cell_type": "code",
   "execution_count": 114,
   "id": "7298ff00-3104-4992-87ee-ea4f1162f8a8",
   "metadata": {},
   "outputs": [],
   "source": [
    "nineties = data.loc[data['year'] > 1999, 'no_smoothing']"
   ]
  },
  {
   "cell_type": "code",
   "execution_count": 104,
   "id": "71fed20d-8654-435b-99bd-b28b6504a9fd",
   "metadata": {},
   "outputs": [
    {
     "data": {
      "text/plain": [
       "<Axes: ylabel='Density'>"
      ]
     },
     "execution_count": 104,
     "metadata": {},
     "output_type": "execute_result"
    },
    {
     "data": {
      "image/png": "[encoded data removed]",
      "text/plain": [
       "<Figure size 640x480 with 1 Axes>"
      ]
     },
     "metadata": {},
     "output_type": "display_data"
    }
   ],
   "source": [
    "nineties.plot(kind='density')"
   ]
  },
  {
   "cell_type": "code",
   "execution_count": 105,
   "id": "ce97d7b3-42cf-4ecc-9b0e-9d8bf5cfca84",
   "metadata": {},
   "outputs": [],
   "source": [
    "def normal_dist(df):\n",
    "    count = 0\n",
    "    bottom = df.mean() - df.std()\n",
    "    top = df.mean() + df.std()\n",
    "    for i in df:\n",
    "        if bottom < i and i < top:\n",
    "            count += 1\n",
    "    return count/len(df)"
   ]
  },
  {
   "cell_type": "code",
   "execution_count": 106,
   "id": "ed5960f0-0dc5-496c-b1e1-bab26104cabe",
   "metadata": {},
   "outputs": [
    {
     "data": {
      "text/plain": [
       "0.6971830985915493"
      ]
     },
     "execution_count": 106,
     "metadata": {},
     "output_type": "execute_result"
    }
   ],
   "source": [
    "normal_dist(ns)"
   ]
  },
  {
   "cell_type": "code",
   "execution_count": 107,
   "id": "2652d2fb-d1be-4644-9d15-aaac8eafb947",
   "metadata": {},
   "outputs": [
    {
     "data": {
      "text/plain": [
       "0.6190476190476191"
      ]
     },
     "execution_count": 107,
     "metadata": {},
     "output_type": "execute_result"
    }
   ],
   "source": [
    "normal_dist(nineties)"
   ]
  },
  {
   "cell_type": "code",
   "execution_count": 112,
   "id": "6bcbc600-fbf5-4be6-b184-94d5bbd18896",
   "metadata": {},
   "outputs": [
    {
     "data": {
      "text/plain": [
       "4.208129951166484e-07"
      ]
     },
     "execution_count": 112,
     "metadata": {},
     "output_type": "execute_result"
    }
   ],
   "source": [
    "sci.stats.shapiro(ns).pvalue"
   ]
  },
  {
   "cell_type": "code",
   "execution_count": 115,
   "id": "f290a20d-f60e-4482-9434-3eb1b968c34b",
   "metadata": {},
   "outputs": [
    {
     "data": {
      "text/plain": [
       "0.22180569171905518"
      ]
     },
     "execution_count": 115,
     "metadata": {},
     "output_type": "execute_result"
    }
   ],
   "source": [
    "sci.stats.shapiro(nineties).pvalue"
   ]
  },
  {
   "cell_type": "code",
   "execution_count": null,
   "id": "362e129f-4dce-42a1-8105-1b6c0737373a",
   "metadata": {},
   "outputs": [],
   "source": []
  }
 ],
 "metadata": {
  "kernelspec": {
   "display_name": "Python 3 (ipykernel)",
   "language": "python",
   "name": "python3"
  },
  "language_info": {
   "codemirror_mode": {
    "name": "ipython",
    "version": 3
   },
   "file_extension": ".py",
   "mimetype": "text/x-python",
   "name": "python",
   "nbconvert_exporter": "python",
   "pygments_lexer": "ipython3",
   "version": "3.10.9"
  }
 },
 "nbformat": 4,
 "nbformat_minor": 5
}
