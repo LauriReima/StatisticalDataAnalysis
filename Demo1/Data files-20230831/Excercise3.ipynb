{
 "cells": [
  {
   "cell_type": "code",
   "execution_count": 1,
   "id": "8ca6cd2d-3c0d-4b61-87c2-61459bc7464a",
   "metadata": {},
   "outputs": [],
   "source": [
    "import pandas as pd\n",
    "import numpy as np"
   ]
  },
  {
   "cell_type": "code",
   "execution_count": 2,
   "id": "8e250203-4b01-4e80-82ca-be2ea08034e5",
   "metadata": {},
   "outputs": [
    {
     "data": {
      "text/html": [
       "<div>\n",
       "<style scoped>\n",
       "    .dataframe tbody tr th:only-of-type {\n",
       "        vertical-align: middle;\n",
       "    }\n",
       "\n",
       "    .dataframe tbody tr th {\n",
       "        vertical-align: top;\n",
       "    }\n",
       "\n",
       "    .dataframe thead th {\n",
       "        text-align: right;\n",
       "    }\n",
       "</style>\n",
       "<table border=\"1\" class=\"dataframe\">\n",
       "  <thead>\n",
       "    <tr style=\"text-align: right;\">\n",
       "      <th></th>\n",
       "      <th>sex</th>\n",
       "      <th>location</th>\n",
       "      <th>purchases</th>\n",
       "      <th>retention_time</th>\n",
       "    </tr>\n",
       "  </thead>\n",
       "  <tbody>\n",
       "    <tr>\n",
       "      <th>0</th>\n",
       "      <td>female</td>\n",
       "      <td>Helsinki</td>\n",
       "      <td>7.0</td>\n",
       "      <td>57.1</td>\n",
       "    </tr>\n",
       "    <tr>\n",
       "      <th>1</th>\n",
       "      <td>female</td>\n",
       "      <td>Helsinki</td>\n",
       "      <td>5.0</td>\n",
       "      <td>NaN</td>\n",
       "    </tr>\n",
       "    <tr>\n",
       "      <th>2</th>\n",
       "      <td>female</td>\n",
       "      <td>Turku</td>\n",
       "      <td>8.0</td>\n",
       "      <td>50.6</td>\n",
       "    </tr>\n",
       "    <tr>\n",
       "      <th>3</th>\n",
       "      <td>male</td>\n",
       "      <td>Helsinki</td>\n",
       "      <td>5.0</td>\n",
       "      <td>31.7</td>\n",
       "    </tr>\n",
       "    <tr>\n",
       "      <th>4</th>\n",
       "      <td>female</td>\n",
       "      <td>Helsinki</td>\n",
       "      <td>2.0</td>\n",
       "      <td>120.0</td>\n",
       "    </tr>\n",
       "    <tr>\n",
       "      <th>...</th>\n",
       "      <td>...</td>\n",
       "      <td>...</td>\n",
       "      <td>...</td>\n",
       "      <td>...</td>\n",
       "    </tr>\n",
       "    <tr>\n",
       "      <th>195</th>\n",
       "      <td>male</td>\n",
       "      <td>Turku</td>\n",
       "      <td>3.0</td>\n",
       "      <td>40.5</td>\n",
       "    </tr>\n",
       "    <tr>\n",
       "      <th>196</th>\n",
       "      <td>male</td>\n",
       "      <td>Helsinki</td>\n",
       "      <td>3.0</td>\n",
       "      <td>36.9</td>\n",
       "    </tr>\n",
       "    <tr>\n",
       "      <th>197</th>\n",
       "      <td>female</td>\n",
       "      <td>Helsinki</td>\n",
       "      <td>6.0</td>\n",
       "      <td>59.2</td>\n",
       "    </tr>\n",
       "    <tr>\n",
       "      <th>198</th>\n",
       "      <td>male</td>\n",
       "      <td>Helsinki</td>\n",
       "      <td>5.0</td>\n",
       "      <td>31.8</td>\n",
       "    </tr>\n",
       "    <tr>\n",
       "      <th>199</th>\n",
       "      <td>female</td>\n",
       "      <td>Helsinki</td>\n",
       "      <td>6.0</td>\n",
       "      <td>181.9</td>\n",
       "    </tr>\n",
       "  </tbody>\n",
       "</table>\n",
       "<p>200 rows × 4 columns</p>\n",
       "</div>"
      ],
      "text/plain": [
       "        sex  location  purchases  retention_time\n",
       "0    female  Helsinki        7.0            57.1\n",
       "1    female  Helsinki        5.0             NaN\n",
       "2    female     Turku        8.0            50.6\n",
       "3      male  Helsinki        5.0            31.7\n",
       "4    female  Helsinki        2.0           120.0\n",
       "..      ...       ...        ...             ...\n",
       "195    male     Turku        3.0            40.5\n",
       "196    male  Helsinki        3.0            36.9\n",
       "197  female  Helsinki        6.0            59.2\n",
       "198    male  Helsinki        5.0            31.8\n",
       "199  female  Helsinki        6.0           181.9\n",
       "\n",
       "[200 rows x 4 columns]"
      ]
     },
     "execution_count": 2,
     "metadata": {},
     "output_type": "execute_result"
    }
   ],
   "source": [
    "# 1. Find invalid values in the data and replace them either with a correct value (if possible) or with NaN.\n",
    "data = pd.read_csv('13-data.csv')\n",
    "data"
   ]
  },
  {
   "cell_type": "code",
   "execution_count": 174,
   "id": "c1fead2d-4207-4a61-9905-ce73716cee13",
   "metadata": {},
   "outputs": [
    {
     "data": {
      "text/plain": [
       "0      female\n",
       "1      female\n",
       "2      female\n",
       "3        male\n",
       "4      female\n",
       "        ...  \n",
       "195      male\n",
       "196      male\n",
       "197    female\n",
       "198      male\n",
       "199    female\n",
       "Name: sex, Length: 200, dtype: object"
      ]
     },
     "execution_count": 174,
     "metadata": {},
     "output_type": "execute_result"
    }
   ],
   "source": [
    "data['sex']"
   ]
  },
  {
   "cell_type": "code",
   "execution_count": 175,
   "id": "fb6788e5-aadc-4871-99e4-2811ce64120d",
   "metadata": {},
   "outputs": [
    {
     "data": {
      "text/plain": [
       "199"
      ]
     },
     "execution_count": 175,
     "metadata": {},
     "output_type": "execute_result"
    }
   ],
   "source": [
    "# amount of females and males\n",
    "female = (data['sex'] == 'female').sum()\n",
    "male = (data['sex'] == 'male').sum()\n",
    "male + female"
   ]
  },
  {
   "cell_type": "code",
   "execution_count": 176,
   "id": "6891c935-157c-4566-9081-bfdde2a9d1a8",
   "metadata": {},
   "outputs": [
    {
     "data": {
      "text/plain": [
       "sex\n",
       "male      112\n",
       "female     87\n",
       "nale        1\n",
       "Name: count, dtype: int64"
      ]
     },
     "execution_count": 176,
     "metadata": {},
     "output_type": "execute_result"
    }
   ],
   "source": [
    "data.sex.value_counts()"
   ]
  },
  {
   "cell_type": "code",
   "execution_count": 177,
   "id": "175ad50d-5314-471f-ac8b-9e4fa7c8e78d",
   "metadata": {},
   "outputs": [],
   "source": [
    "data.sex.replace({'nale':'male'}, inplace=True)"
   ]
  },
  {
   "cell_type": "code",
   "execution_count": 178,
   "id": "8f272820-5d2a-40fc-b29e-f008de903b72",
   "metadata": {},
   "outputs": [
    {
     "data": {
      "text/plain": [
       "sex\n",
       "male      113\n",
       "female     87\n",
       "Name: count, dtype: int64"
      ]
     },
     "execution_count": 178,
     "metadata": {},
     "output_type": "execute_result"
    }
   ],
   "source": [
    "data.sex.value_counts()"
   ]
  },
  {
   "cell_type": "code",
   "execution_count": 179,
   "id": "4d71c9ef-b7af-4cc6-bfae-733e2eb96d0e",
   "metadata": {},
   "outputs": [
    {
     "data": {
      "text/plain": [
       "location\n",
       "Helsinki    92\n",
       "Turku       70\n",
       "Tampere     27\n",
       "33100        8\n",
       "20100        3\n",
       "Name: count, dtype: int64"
      ]
     },
     "execution_count": 179,
     "metadata": {},
     "output_type": "execute_result"
    }
   ],
   "source": [
    "data.location.value_counts()"
   ]
  },
  {
   "cell_type": "code",
   "execution_count": 180,
   "id": "ae2bcafe-3e35-4fab-8053-017a7223b088",
   "metadata": {},
   "outputs": [],
   "source": [
    "data.location.replace({'33100':'Tampere', '20100': 'Turku'}, inplace=True)"
   ]
  },
  {
   "cell_type": "code",
   "execution_count": 181,
   "id": "9535f278-ebd8-45d5-91f6-1aeca6743372",
   "metadata": {},
   "outputs": [
    {
     "data": {
      "text/plain": [
       "location\n",
       "Helsinki    92\n",
       "Turku       73\n",
       "Tampere     35\n",
       "Name: count, dtype: int64"
      ]
     },
     "execution_count": 181,
     "metadata": {},
     "output_type": "execute_result"
    }
   ],
   "source": [
    "data.location.value_counts()"
   ]
  },
  {
   "cell_type": "code",
   "execution_count": 182,
   "id": "21b8973c-636b-4f3c-911a-f3d30283871c",
   "metadata": {},
   "outputs": [],
   "source": [
    "# 2. Replace all missing values of the purchases variable with zero.\n",
    "data.purchases.isna().sum()\n",
    "data.purchases.fillna(0, inplace=True)"
   ]
  },
  {
   "cell_type": "code",
   "execution_count": 183,
   "id": "862aa9a2-5e49-465b-aa2d-8c39b893dd58",
   "metadata": {},
   "outputs": [
    {
     "data": {
      "text/plain": [
       "0"
      ]
     },
     "execution_count": 183,
     "metadata": {},
     "output_type": "execute_result"
    }
   ],
   "source": [
    "data.purchases.isna().sum()"
   ]
  },
  {
   "cell_type": "code",
   "execution_count": 184,
   "id": "44bfa236-07dc-475d-999b-f51ffa6eaeaa",
   "metadata": {},
   "outputs": [
    {
     "data": {
      "text/plain": [
       "200"
      ]
     },
     "execution_count": 184,
     "metadata": {},
     "output_type": "execute_result"
    }
   ],
   "source": [
    "data.purchases.value_counts().sum()"
   ]
  },
  {
   "cell_type": "code",
   "execution_count": 185,
   "id": "710bd07e-1b4c-47ad-91fc-6f55795727f7",
   "metadata": {},
   "outputs": [],
   "source": [
    "# 3. Use median imputation to fill in all missing values of the retention_time variable.\n",
    "# (BONUS) Group the observations by sex and location before calculating the substitute median(s)."
   ]
  },
  {
   "cell_type": "code",
   "execution_count": 188,
   "id": "49dbbfa4-a87b-41db-adab-8210c067599b",
   "metadata": {},
   "outputs": [],
   "source": [
    "data.retention_time = data.retention_time.apply(lambda value: abs(value) if value < 0 else value)"
   ]
  },
  {
   "cell_type": "code",
   "execution_count": 189,
   "id": "40bc169b-57a6-4d77-947f-7a6cf299ea37",
   "metadata": {},
   "outputs": [],
   "source": [
    "grouped = data.groupby(['sex', 'location'])"
   ]
  },
  {
   "cell_type": "code",
   "execution_count": 190,
   "id": "e61d8071-da15-441a-87a1-cfab76c5f93a",
   "metadata": {},
   "outputs": [],
   "source": [
    "data.retention_time = grouped.retention_time.transform(lambda group: group.fillna(group.mean()))"
   ]
  },
  {
   "cell_type": "code",
   "execution_count": 200,
   "id": "918652c2-60a0-4955-9b8c-015a76c72ab7",
   "metadata": {},
   "outputs": [
    {
     "data": {
      "text/html": [
       "<div>\n",
       "<style scoped>\n",
       "    .dataframe tbody tr th:only-of-type {\n",
       "        vertical-align: middle;\n",
       "    }\n",
       "\n",
       "    .dataframe tbody tr th {\n",
       "        vertical-align: top;\n",
       "    }\n",
       "\n",
       "    .dataframe thead th {\n",
       "        text-align: right;\n",
       "    }\n",
       "</style>\n",
       "<table border=\"1\" class=\"dataframe\">\n",
       "  <thead>\n",
       "    <tr style=\"text-align: right;\">\n",
       "      <th></th>\n",
       "      <th>sex</th>\n",
       "      <th>location</th>\n",
       "      <th>purchases</th>\n",
       "      <th>retention_time</th>\n",
       "    </tr>\n",
       "  </thead>\n",
       "  <tbody>\n",
       "    <tr>\n",
       "      <th>0</th>\n",
       "      <td>female</td>\n",
       "      <td>Helsinki</td>\n",
       "      <td>7</td>\n",
       "      <td>57.1</td>\n",
       "    </tr>\n",
       "    <tr>\n",
       "      <th>1</th>\n",
       "      <td>female</td>\n",
       "      <td>Helsinki</td>\n",
       "      <td>5</td>\n",
       "      <td>63.1</td>\n",
       "    </tr>\n",
       "    <tr>\n",
       "      <th>2</th>\n",
       "      <td>female</td>\n",
       "      <td>Turku</td>\n",
       "      <td>8</td>\n",
       "      <td>50.6</td>\n",
       "    </tr>\n",
       "    <tr>\n",
       "      <th>3</th>\n",
       "      <td>male</td>\n",
       "      <td>Helsinki</td>\n",
       "      <td>5</td>\n",
       "      <td>31.7</td>\n",
       "    </tr>\n",
       "    <tr>\n",
       "      <th>4</th>\n",
       "      <td>female</td>\n",
       "      <td>Helsinki</td>\n",
       "      <td>2</td>\n",
       "      <td>120.0</td>\n",
       "    </tr>\n",
       "    <tr>\n",
       "      <th>...</th>\n",
       "      <td>...</td>\n",
       "      <td>...</td>\n",
       "      <td>...</td>\n",
       "      <td>...</td>\n",
       "    </tr>\n",
       "    <tr>\n",
       "      <th>195</th>\n",
       "      <td>male</td>\n",
       "      <td>Turku</td>\n",
       "      <td>3</td>\n",
       "      <td>40.5</td>\n",
       "    </tr>\n",
       "    <tr>\n",
       "      <th>196</th>\n",
       "      <td>male</td>\n",
       "      <td>Helsinki</td>\n",
       "      <td>3</td>\n",
       "      <td>36.9</td>\n",
       "    </tr>\n",
       "    <tr>\n",
       "      <th>197</th>\n",
       "      <td>female</td>\n",
       "      <td>Helsinki</td>\n",
       "      <td>6</td>\n",
       "      <td>59.2</td>\n",
       "    </tr>\n",
       "    <tr>\n",
       "      <th>198</th>\n",
       "      <td>male</td>\n",
       "      <td>Helsinki</td>\n",
       "      <td>5</td>\n",
       "      <td>31.8</td>\n",
       "    </tr>\n",
       "    <tr>\n",
       "      <th>199</th>\n",
       "      <td>female</td>\n",
       "      <td>Helsinki</td>\n",
       "      <td>6</td>\n",
       "      <td>181.9</td>\n",
       "    </tr>\n",
       "  </tbody>\n",
       "</table>\n",
       "<p>200 rows × 4 columns</p>\n",
       "</div>"
      ],
      "text/plain": [
       "        sex  location  purchases  retention_time\n",
       "0    female  Helsinki          7            57.1\n",
       "1    female  Helsinki          5            63.1\n",
       "2    female     Turku          8            50.6\n",
       "3      male  Helsinki          5            31.7\n",
       "4    female  Helsinki          2           120.0\n",
       "..      ...       ...        ...             ...\n",
       "195    male     Turku          3            40.5\n",
       "196    male  Helsinki          3            36.9\n",
       "197  female  Helsinki          6            59.2\n",
       "198    male  Helsinki          5            31.8\n",
       "199  female  Helsinki          6           181.9\n",
       "\n",
       "[200 rows x 4 columns]"
      ]
     },
     "execution_count": 200,
     "metadata": {},
     "output_type": "execute_result"
    }
   ],
   "source": [
    "data"
   ]
  },
  {
   "cell_type": "code",
   "execution_count": 201,
   "id": "f3ffe785-45c1-4632-b555-62d8e38756c3",
   "metadata": {},
   "outputs": [],
   "source": [
    "data.purchases = data.purchases.astype(int)"
   ]
  },
  {
   "cell_type": "code",
   "execution_count": 202,
   "id": "d1baca06-bbe6-4c3c-97ce-40a5f466e425",
   "metadata": {},
   "outputs": [],
   "source": [
    "data.retention_time = data.retention_time.round(1)"
   ]
  },
  {
   "cell_type": "code",
   "execution_count": 203,
   "id": "e8b42703-cfc7-4c7e-b255-fb96eed3e4df",
   "metadata": {},
   "outputs": [],
   "source": [
    "data.to_csv('exercise_3.csv', index=False)"
   ]
  },
  {
   "cell_type": "code",
   "execution_count": null,
   "id": "41b3c8da-5c09-4948-8482-6cd41c945475",
   "metadata": {},
   "outputs": [],
   "source": []
  }
 ],
 "metadata": {
  "kernelspec": {
   "display_name": "Python 3 (ipykernel)",
   "language": "python",
   "name": "python3"
  },
  "language_info": {
   "codemirror_mode": {
    "name": "ipython",
    "version": 3
   },
   "file_extension": ".py",
   "mimetype": "text/x-python",
   "name": "python",
   "nbconvert_exporter": "python",
   "pygments_lexer": "ipython3",
   "version": "3.10.9"
  }
 },
 "nbformat": 4,
 "nbformat_minor": 5
}
