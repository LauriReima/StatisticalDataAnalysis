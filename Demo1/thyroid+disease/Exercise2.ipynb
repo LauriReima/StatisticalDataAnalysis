{
 "cells": [
  {
   "cell_type": "code",
   "execution_count": 34,
   "id": "9c9eae61-0df9-4f90-85d8-df405f9f0773",
   "metadata": {},
   "outputs": [],
   "source": [
    "import pandas as pd\n",
    "import numpy as np"
   ]
  },
  {
   "cell_type": "code",
   "execution_count": 35,
   "id": "1f7a437b-dcf4-44ff-96a7-c1075bf8ebed",
   "metadata": {},
   "outputs": [],
   "source": [
    "columns = []\n",
    "with open('allbp.names', 'r') as name_file:\n",
    "    lines = name_file.readlines()\n",
    "    for line in lines:\n",
    "        if ':' in line:\n",
    "            column_name = line.split(':')[0].strip()\n",
    "            columns.append(column_name)\n",
    "columns.append('classes')"
   ]
  },
  {
   "cell_type": "code",
   "execution_count": 3,
   "id": "042d697f-f996-453f-840c-ca4fd918d07b",
   "metadata": {},
   "outputs": [],
   "source": [
    "data = pd.read_csv('allbp.data', na_values=['?'],names=columns)"
   ]
  },
  {
   "cell_type": "code",
   "execution_count": 4,
   "id": "360da6fb-9a7b-4132-a120-968c8daa1e29",
   "metadata": {},
   "outputs": [],
   "source": [
    "data.replace({'f': 'no', 't':'yes'}, inplace=True)\n",
    "yes_count = (data == 'yes').sum()"
   ]
  },
  {
   "cell_type": "code",
   "execution_count": 9,
   "id": "dba58dc8-2b0e-4143-9605-d392ed8ac12f",
   "metadata": {},
   "outputs": [
    {
     "data": {
      "text/plain": [
       "on thyroxine                 0.117857\n",
       "query on thyroxine           0.014286\n",
       "on antithyroid medication    0.012143\n",
       "sick                         0.039286\n",
       "pregnant                     0.014643\n",
       "thyroid surgery              0.013929\n",
       "I131 treatment               0.017143\n",
       "query hypothyroid            0.058214\n",
       "query hyperthyroid           0.061786\n",
       "lithium                      0.005000\n",
       "goitre                       0.008929\n",
       "tumor                        0.025357\n",
       "hypopituitary                0.000357\n",
       "psych                        0.048214\n",
       "TSH measured                 0.898571\n",
       "T3 measured                  0.791071\n",
       "TT4 measured                 0.934286\n",
       "T4U measured                 0.893929\n",
       "FTI measured                 0.894643\n",
       "dtype: float64"
      ]
     },
     "execution_count": 9,
     "metadata": {},
     "output_type": "execute_result"
    }
   ],
   "source": [
    "#1. List of variables that has at least one yes (true) value, and the total amount divided by 2800\n",
    "yes_count[yes_count > 0] / 2800"
   ]
  },
  {
   "cell_type": "code",
   "execution_count": 10,
   "id": "a9fe82ee-ec12-47b8-befc-cafd02456c86",
   "metadata": {},
   "outputs": [],
   "source": [
    "# 2. for each of the TSH, T3, TT4, T4U, FTI and TBG variables, calculate \n",
    "# the sum of the squared values divided by the number of non-NA values.\n",
    "new_data = data[['TSH', 'T3','TT4', 'T4U', 'FTI', 'TBG']]"
   ]
  },
  {
   "cell_type": "code",
   "execution_count": 28,
   "id": "63b346f2-eef0-4100-b6cb-9c488df1a809",
   "metadata": {},
   "outputs": [],
   "source": [
    "data_squared = new_data * new_data\n",
    "sum_of_squared_values = data_squared.sum()"
   ]
  },
  {
   "cell_type": "code",
   "execution_count": 29,
   "id": "c7efbf02-22ce-4492-aff1-5f0817d35c42",
   "metadata": {},
   "outputs": [
    {
     "data": {
      "text/plain": [
       "TSH    1.212020e+06\n",
       "T3     1.058802e+04\n",
       "TT4    3.439761e+07\n",
       "T4U    2.587104e+03\n",
       "FTI    3.345403e+07\n",
       "TBG    0.000000e+00\n",
       "dtype: float64"
      ]
     },
     "execution_count": 29,
     "metadata": {},
     "output_type": "execute_result"
    }
   ],
   "source": [
    "sum_of_squared_values"
   ]
  },
  {
   "cell_type": "code",
   "execution_count": 30,
   "id": "27b5d438-a283-42d2-b9d6-ccf0320c06e6",
   "metadata": {},
   "outputs": [],
   "source": [
    "number_of_non = data_squared.notna().sum()"
   ]
  },
  {
   "cell_type": "code",
   "execution_count": 31,
   "id": "e2d9b050-9af0-4e37-9167-79cdb4374055",
   "metadata": {},
   "outputs": [
    {
     "data": {
      "text/plain": [
       "TSH    2516\n",
       "T3     2215\n",
       "TT4    2616\n",
       "T4U    2503\n",
       "FTI    2505\n",
       "TBG       0\n",
       "dtype: int64"
      ]
     },
     "execution_count": 31,
     "metadata": {},
     "output_type": "execute_result"
    }
   ],
   "source": [
    "number_of_non"
   ]
  },
  {
   "cell_type": "code",
   "execution_count": 33,
   "id": "689e90b7-640e-4c64-80a8-12f6e2fa4668",
   "metadata": {},
   "outputs": [
    {
     "data": {
      "text/plain": [
       "TSH      481.725148\n",
       "T3         4.780147\n",
       "TT4    13148.934755\n",
       "T4U        1.033601\n",
       "FTI    13354.902248\n",
       "TBG             NaN\n",
       "dtype: float64"
      ]
     },
     "execution_count": 33,
     "metadata": {},
     "output_type": "execute_result"
    }
   ],
   "source": [
    "sum_of_squared_values / number_of_non"
   ]
  },
  {
   "cell_type": "code",
   "execution_count": 67,
   "id": "cc8680bf-cf48-4535-9c17-3fb93b20950c",
   "metadata": {},
   "outputs": [],
   "source": [
    "# 3. calculate the mean ratio between T3 and TT4.\n",
    "mean_T3 = np.mean(data['T3'])\n",
    "mean_TT4 = np.mean(data['TT4'])"
   ]
  },
  {
   "cell_type": "code",
   "execution_count": 68,
   "id": "18ba773c-5c0b-4257-995e-bd775328a488",
   "metadata": {},
   "outputs": [
    {
     "data": {
      "text/plain": [
       "0.01856533943142266"
      ]
     },
     "execution_count": 68,
     "metadata": {},
     "output_type": "execute_result"
    }
   ],
   "source": [
    "# mean ratio\n",
    "mean_T3 / mean_TT4"
   ]
  },
  {
   "cell_type": "code",
   "execution_count": null,
   "id": "9ece9371-d8c4-4a85-ae3d-647ca6e2a6c0",
   "metadata": {},
   "outputs": [],
   "source": []
  }
 ],
 "metadata": {
  "kernelspec": {
   "display_name": "Python 3 (ipykernel)",
   "language": "python",
   "name": "python3"
  },
  "language_info": {
   "codemirror_mode": {
    "name": "ipython",
    "version": 3
   },
   "file_extension": ".py",
   "mimetype": "text/x-python",
   "name": "python",
   "nbconvert_exporter": "python",
   "pygments_lexer": "ipython3",
   "version": "3.10.9"
  }
 },
 "nbformat": 4,
 "nbformat_minor": 5
}
