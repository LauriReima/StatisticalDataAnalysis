{
 "cells": [
  {
   "cell_type": "code",
   "execution_count": 11,
   "id": "8900c53e-195b-4547-a019-bc4139dc7a7d",
   "metadata": {},
   "outputs": [],
   "source": [
    "import scipy\n",
    "from scipy import stats\n",
    "import numpy as np"
   ]
  },
  {
   "cell_type": "markdown",
   "id": "0456a3d4-38a3-415b-8c30-80f4fbae4b3e",
   "metadata": {},
   "source": [
    "A: 34, 23, 51, 47, 34\n",
    "\n",
    "B: 48, 27, 33, 45, 41, 35\n",
    "\n",
    "C: 34, 53, 54, 28, 52, 29"
   ]
  },
  {
   "cell_type": "code",
   "execution_count": 12,
   "id": "893390dc-3d2d-4b75-9f8c-00285a723e7e",
   "metadata": {},
   "outputs": [],
   "source": [
    "A = (34, 23, 51, 47, 34)\n",
    "B = (48, 27, 33, 45, 41, 35)\n",
    "C = (34, 53, 54, 28, 52, 29)"
   ]
  },
  {
   "cell_type": "code",
   "execution_count": 13,
   "id": "026a79d7-5dd6-428d-a9d5-28022d3bc826",
   "metadata": {},
   "outputs": [],
   "source": [
    "AP = scipy.stats.shapiro(A)[1]\n",
    "BP = scipy.stats.shapiro(B)[1]\n",
    "CP = scipy.stats.shapiro(C)[1]"
   ]
  },
  {
   "cell_type": "code",
   "execution_count": 14,
   "id": "115370bd-5df5-468b-b7cd-e71b775c0c79",
   "metadata": {},
   "outputs": [
    {
     "name": "stdout",
     "output_type": "stream",
     "text": [
      "0.6185047030448914 0.8777010440826416 0.048213135451078415\n"
     ]
    }
   ],
   "source": [
    "print(AP,BP,CP)"
   ]
  },
  {
   "cell_type": "markdown",
   "id": "344a1192-419a-462a-a471-5fe85c244d4e",
   "metadata": {},
   "source": [
    " AB and AC are unpaired samples (different amount of observations)\n",
    " BC is a paired sample\n",
    " A and B are normal, C is not\n",
    " AB uses unpaired t-test\n",
    " AC uses mannwhitneyu test\n",
    " BC uses wilcox"
   ]
  },
  {
   "cell_type": "code",
   "execution_count": 15,
   "id": "b80dc371-40e6-4439-b8d5-b49109a03276",
   "metadata": {},
   "outputs": [
    {
     "name": "stdout",
     "output_type": "stream",
     "text": [
      "AB:  0.9507932942353805\n",
      "AC:  0.5189924682098411\n",
      "BC:  0.6875\n"
     ]
    }
   ],
   "source": [
    "print('AB: ', scipy.stats.ttest_ind(A,B)[1])\n",
    "print('AC: ', scipy.stats.mannwhitneyu(A,C, use_continuity=True,alternative='two-sided')[1])\n",
    "print('BC: ', scipy.stats.wilcoxon(B, C ,correction=True)[1])"
   ]
  },
  {
   "cell_type": "code",
   "execution_count": null,
   "id": "16e477f5-d3e6-4a6b-829c-af98d3f60209",
   "metadata": {},
   "outputs": [],
   "source": [
    "##Group_D\n",
    "### Test: 5.6, 3.1, 8.7, 4.5, 6.7, 4.5 \n",
    "### Retest: 6.1, 5.8, 8.5, 5.3, 7.2, 5.1\n",
    "##Group E\n",
    "### Test: 4.5, 3.9, 7.1, 4.3, 6.9, 8.2, 7.6 \n",
    "### Retest: 4.9, 4.7, 7.8, 4.8, 7.5, 7.8, 8.1"
   ]
  },
  {
   "cell_type": "code",
   "execution_count": 16,
   "id": "ab74454a-6cdb-475b-af00-71b2a4e0e80d",
   "metadata": {},
   "outputs": [],
   "source": [
    "D_test = (5.6, 3.1, 8.7, 4.5, 6.7, 4.5 )\n",
    "D_retest = (6.1, 5.8, 8.5, 5.3, 7.2, 5.1)\n",
    "E_test = (4.5, 3.9, 7.1, 4.3, 6.9, 8.2, 7.6 )\n",
    "E_retest = (4.9, 4.7, 7.8, 4.8, 7.5, 7.8, 8.1)"
   ]
  },
  {
   "cell_type": "code",
   "execution_count": 17,
   "id": "060524af-08e4-4d2a-811e-3abfd6890a20",
   "metadata": {},
   "outputs": [],
   "source": [
    "## a) Compare test and retest results for group D.\n",
    "## b) Compare test and retest results for group E.\n",
    "## c) Compare test results for group D and E. \n",
    "## d) Compare retest results for group D and E."
   ]
  },
  {
   "cell_type": "code",
   "execution_count": 18,
   "id": "cf79ad98-deeb-4629-8c3b-93c67788f45b",
   "metadata": {},
   "outputs": [
    {
     "name": "stdout",
     "output_type": "stream",
     "text": [
      "D\n",
      "Shapiro:  0.8002400398254395 0.3768611550331116\n",
      "Kolmogorov:  0.8967072914659476 0.7896483534467674\n"
     ]
    }
   ],
   "source": [
    "print('D') \n",
    "print('Shapiro: ',scipy.stats.shapiro(D_test)[1], scipy.stats.shapiro(D_retest)[1]) \n",
    "print('Kolmogorov: ',scipy.stats.kstest(D_test,'norm',(np.mean(D_test),np.std(D_test)))[1], scipy.stats.kstest(D_retest,'norm',(np.mean(D_retest),np.std(D_retest)))[1])"
   ]
  },
  {
   "cell_type": "code",
   "execution_count": 19,
   "id": "c7beebd5-6dc0-4f7d-97a9-b6eb00bcc136",
   "metadata": {},
   "outputs": [
    {
     "data": {
      "text/plain": [
       "0.09740501217589806"
      ]
     },
     "execution_count": 19,
     "metadata": {},
     "output_type": "execute_result"
    }
   ],
   "source": [
    "# Normal and paired so paired t-test\n",
    "\n",
    "scipy.stats.ttest_rel(D_test, D_retest)[1]"
   ]
  },
  {
   "cell_type": "code",
   "execution_count": 20,
   "id": "83573b00-bff4-4eff-8d41-3cbacfb868e8",
   "metadata": {},
   "outputs": [
    {
     "name": "stdout",
     "output_type": "stream",
     "text": [
      "E\n",
      "Shapiro:  0.16666603088378906 0.014585546217858791\n",
      "Kolmogorov:  0.6219176661976498 0.4007194521101426\n"
     ]
    }
   ],
   "source": [
    "# b)\n",
    "print('E')\n",
    "print('Shapiro: ',scipy.stats.shapiro(E_test)[1], scipy.stats.shapiro(E_retest)[1])\n",
    "print('Kolmogorov: ',scipy.stats.kstest(E_test,'norm',(np.mean(E_test),np.std(E_test)))[1], scipy.stats.kstest(E_retest,'norm',(np.mean(E_retest),np.std(E_retest)))[1])"
   ]
  },
  {
   "cell_type": "code",
   "execution_count": null,
   "id": "6b9e39af-2822-4616-9c12-049cc4aa23b0",
   "metadata": {},
   "outputs": [],
   "source": [
    "# E test is normal, but there is some doubt that retest is, so it could be not-normal. They are paired.\n"
   ]
  },
  {
   "cell_type": "code",
   "execution_count": 39,
   "id": "ccf166e3-dd01-4583-988f-1383668abf39",
   "metadata": {},
   "outputs": [
    {
     "data": {
      "text/plain": [
       "0.03125"
      ]
     },
     "execution_count": 39,
     "metadata": {},
     "output_type": "execute_result"
    }
   ],
   "source": [
    "scipy.stats.wilcoxon(E_test,E_retest,correction=True)[1]"
   ]
  },
  {
   "cell_type": "code",
   "execution_count": null,
   "id": "e18214a3-0d89-45d0-a1fe-d6c83daa8af1",
   "metadata": {},
   "outputs": [],
   "source": [
    "# c) \n",
    "# Normal and unpaired\n"
   ]
  },
  {
   "cell_type": "code",
   "execution_count": 40,
   "id": "1c6fe461-4870-4b79-908a-a6603b406b6d",
   "metadata": {},
   "outputs": [
    {
     "data": {
      "text/plain": [
       "0.6040909505950958"
      ]
     },
     "execution_count": 40,
     "metadata": {},
     "output_type": "execute_result"
    }
   ],
   "source": [
    "scipy.stats.ttest_ind(D_test,E_test)[1]"
   ]
  },
  {
   "cell_type": "code",
   "execution_count": null,
   "id": "63b82fca-7c7f-467d-a7fd-df72307a3dcd",
   "metadata": {},
   "outputs": [],
   "source": [
    "# d)\n",
    "# Normal - Not normal and unpaired\n"
   ]
  },
  {
   "cell_type": "code",
   "execution_count": 41,
   "id": "56c501ad-44a0-4b43-a77e-4ddf63e164ae",
   "metadata": {},
   "outputs": [
    {
     "data": {
      "text/plain": [
       "0.9429784240576059"
      ]
     },
     "execution_count": 41,
     "metadata": {},
     "output_type": "execute_result"
    }
   ],
   "source": [
    "scipy.stats.mannwhitneyu(D_retest,E_retest, use_continuity=True,alternative='two-sided')[1]"
   ]
  },
  {
   "cell_type": "code",
   "execution_count": null,
   "id": "106cb6f5-9dd3-4ee6-ae55-91b7178c8347",
   "metadata": {},
   "outputs": [],
   "source": []
  }
 ],
 "metadata": {
  "kernelspec": {
   "display_name": "Python 3 (ipykernel)",
   "language": "python",
   "name": "python3"
  },
  "language_info": {
   "codemirror_mode": {
    "name": "ipython",
    "version": 3
   },
   "file_extension": ".py",
   "mimetype": "text/x-python",
   "name": "python",
   "nbconvert_exporter": "python",
   "pygments_lexer": "ipython3",
   "version": "3.10.9"
  }
 },
 "nbformat": 4,
 "nbformat_minor": 5
}
