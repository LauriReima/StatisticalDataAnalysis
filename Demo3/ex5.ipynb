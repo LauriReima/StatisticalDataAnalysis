{
 "cells": [
  {
   "cell_type": "markdown",
   "id": "3704077f-14cc-4338-9dac-9493acfe4bfb",
   "metadata": {},
   "source": [
    "5. In this exercise we consider file simulated_data_3_5.csv. It has four groups of 100 observation: F, G, H and I. Find correlation and related P-value\n",
    "a) Data file, compare columns F and G.\n",
    "b) Data file simulated_data.csv, compare columns F and H.\n",
    "c) Data file simulated_data.csv, compare columns F and I."
   ]
  },
  {
   "cell_type": "code",
   "execution_count": 1,
   "id": "28a90c52-00bb-40e0-ada3-acac12269c1b",
   "metadata": {},
   "outputs": [],
   "source": [
    "import pandas as pd\n",
    "import scipy\n",
    "from scipy import stats"
   ]
  },
  {
   "cell_type": "code",
   "execution_count": 2,
   "id": "eb680e33-7a19-4b53-ab58-a096f1376ddb",
   "metadata": {},
   "outputs": [],
   "source": [
    "data = pd.read_csv('simulated_data_2_5.csv')"
   ]
  },
  {
   "cell_type": "code",
   "execution_count": 3,
   "id": "6a1f2fa8-445a-45b4-afb5-def42155af82",
   "metadata": {},
   "outputs": [],
   "source": [
    "F = data['F']\n",
    "G = data['G']\n",
    "H = data['H']\n",
    "I = data['I']"
   ]
  },
  {
   "cell_type": "code",
   "execution_count": 4,
   "id": "52457ae4-03ab-46ef-a3a5-32fe8e51954c",
   "metadata": {},
   "outputs": [],
   "source": [
    "Fn = scipy.stats.shapiro(F)[1]\n",
    "Gn = scipy.stats.shapiro(G)[1]\n",
    "Hn = scipy.stats.shapiro(H)[1]\n",
    "In = scipy.stats.shapiro(I)[1]"
   ]
  },
  {
   "cell_type": "code",
   "execution_count": 5,
   "id": "c623f4dc-909e-49b4-9986-382a48801110",
   "metadata": {},
   "outputs": [
    {
     "name": "stdout",
     "output_type": "stream",
     "text": [
      "0.16530661284923553 0.4589977264404297\n"
     ]
    }
   ],
   "source": [
    "print(Fn,Gn)"
   ]
  },
  {
   "cell_type": "code",
   "execution_count": 6,
   "id": "8ff9c068-1764-4cc1-9677-58cafd548736",
   "metadata": {},
   "outputs": [
    {
     "data": {
      "text/plain": [
       "PearsonRResult(statistic=0.031276709760819615, pvalue=0.7573896651044828)"
      ]
     },
     "execution_count": 6,
     "metadata": {},
     "output_type": "execute_result"
    }
   ],
   "source": [
    "# F and G are normal\n",
    "# correlation: \n",
    "scipy.stats.pearsonr(F,G)"
   ]
  },
  {
   "cell_type": "code",
   "execution_count": 9,
   "id": "2d2b1959-f17d-4fed-9329-1a320b7acf3a",
   "metadata": {},
   "outputs": [
    {
     "name": "stdout",
     "output_type": "stream",
     "text": [
      "0.16530661284923553 0.9414515495300293\n"
     ]
    }
   ],
   "source": [
    "print(Fn,Hn)"
   ]
  },
  {
   "cell_type": "code",
   "execution_count": 7,
   "id": "1ca67014-6e4f-410e-bcc7-74adde3d532a",
   "metadata": {},
   "outputs": [
    {
     "data": {
      "text/plain": [
       "PearsonRResult(statistic=-0.1448464359112507, pvalue=0.15047712860205528)"
      ]
     },
     "execution_count": 7,
     "metadata": {},
     "output_type": "execute_result"
    }
   ],
   "source": [
    "# F and H are normal\n",
    "# correlation: \n",
    "scipy.stats.pearsonr(F,H)"
   ]
  },
  {
   "cell_type": "code",
   "execution_count": 10,
   "id": "0422d42e-e978-4d30-b2cd-9ad69f942a06",
   "metadata": {},
   "outputs": [
    {
     "name": "stdout",
     "output_type": "stream",
     "text": [
      "0.16530661284923553 0.0012272647581994534\n"
     ]
    }
   ],
   "source": [
    "print(Fn,In)"
   ]
  },
  {
   "cell_type": "code",
   "execution_count": 8,
   "id": "f9c00528-92b3-48e2-8a52-cd21c6968218",
   "metadata": {},
   "outputs": [
    {
     "data": {
      "text/plain": [
       "SignificanceResult(statistic=0.09838701934793813, pvalue=0.33012316364786465)"
      ]
     },
     "execution_count": 8,
     "metadata": {},
     "output_type": "execute_result"
    }
   ],
   "source": [
    "# F is normal but I is not\n",
    "# correlation: \n",
    "scipy.stats.spearmanr(F,I)"
   ]
  },
  {
   "cell_type": "code",
   "execution_count": null,
   "id": "69e58ebe-8266-4f79-a3ee-e58813930e84",
   "metadata": {},
   "outputs": [],
   "source": []
  }
 ],
 "metadata": {
  "kernelspec": {
   "display_name": "Python 3 (ipykernel)",
   "language": "python",
   "name": "python3"
  },
  "language_info": {
   "codemirror_mode": {
    "name": "ipython",
    "version": 3
   },
   "file_extension": ".py",
   "mimetype": "text/x-python",
   "name": "python",
   "nbconvert_exporter": "python",
   "pygments_lexer": "ipython3",
   "version": "3.10.9"
  }
 },
 "nbformat": 4,
 "nbformat_minor": 5
}
