{
 "cells": [
  {
   "cell_type": "code",
   "execution_count": 57,
   "id": "5b94916c-45fd-4ca6-8d12-089e62996559",
   "metadata": {},
   "outputs": [],
   "source": [
    "import scipy\n",
    "from scipy import stats\n",
    "import numpy as np\n",
    "import pandas as pd"
   ]
  },
  {
   "cell_type": "markdown",
   "id": "6a60775c-78db-4a65-9652-c80a9367ace5",
   "metadata": {},
   "source": [
    "4. Consider correlation between group E test and group E retest in Exercise 3.\n",
    "a) Person correlation and related P-value.\n",
    "b) Spearman correlation and related P-value.\n",
    "c) Rank the two groups. (For same values use half. E.g. if there are two values with the smallest value, then rank them both 1.5.)\n",
    "d) Pearson correlation and related P-value of the ranking obtained in 3)."
   ]
  },
  {
   "cell_type": "code",
   "execution_count": 58,
   "id": "40031450-bb74-44c0-83b2-057ab65c9aec",
   "metadata": {},
   "outputs": [],
   "source": [
    "E_test = pd.Series([4.5, 3.9, 7.1, 4.3, 6.9, 8.2, 7.6] )\n",
    "E_retest = pd.Series([4.9, 4.7, 7.8, 4.8, 7.5, 7.8, 8.1])"
   ]
  },
  {
   "cell_type": "code",
   "execution_count": 59,
   "id": "ae839fc1-d554-48a1-b882-c9370dd16495",
   "metadata": {},
   "outputs": [
    {
     "data": {
      "text/plain": [
       "PearsonRResult(statistic=0.9773664314916523, pvalue=0.00014623458861244028)"
      ]
     },
     "execution_count": 59,
     "metadata": {},
     "output_type": "execute_result"
    }
   ],
   "source": [
    "# a)\n",
    "scipy.stats.pearsonr(E_test,E_retest)"
   ]
  },
  {
   "cell_type": "code",
   "execution_count": 60,
   "id": "f6012259-a180-49c8-8175-e47b6bcfaa8b",
   "metadata": {},
   "outputs": [
    {
     "data": {
      "text/plain": [
       "SignificanceResult(statistic=0.9369749612033814, pvalue=0.0018510301964418925)"
      ]
     },
     "execution_count": 60,
     "metadata": {},
     "output_type": "execute_result"
    }
   ],
   "source": [
    "# b)\n",
    "scipy.stats.spearmanr(E_test,E_retest)"
   ]
  },
  {
   "cell_type": "code",
   "execution_count": 67,
   "id": "d5214fca-90f7-45b9-ac1e-cf2e09c27716",
   "metadata": {},
   "outputs": [
    {
     "name": "stdout",
     "output_type": "stream",
     "text": [
      "0    3.0\n",
      "1    1.0\n",
      "2    5.0\n",
      "3    2.0\n",
      "4    4.0\n",
      "5    7.0\n",
      "6    6.0\n",
      "dtype: float64 0    3.0\n",
      "1    1.0\n",
      "2    5.5\n",
      "3    2.0\n",
      "4    4.0\n",
      "5    5.5\n",
      "6    7.0\n",
      "dtype: float64\n"
     ]
    }
   ],
   "source": [
    "# c)\n",
    "et_rank = E_test.rank()\n",
    "ert_rank = E_retest.rank()\n",
    "print(et_rank, ert_rank)"
   ]
  },
  {
   "cell_type": "code",
   "execution_count": 62,
   "id": "a813994b-3e15-4686-9a97-5dad9d2d88c6",
   "metadata": {},
   "outputs": [
    {
     "data": {
      "text/plain": [
       "SignificanceResult(statistic=0.9369749612033814, pvalue=0.0018510301964418925)"
      ]
     },
     "execution_count": 62,
     "metadata": {},
     "output_type": "execute_result"
    }
   ],
   "source": [
    "# d)\n",
    "scipy.stats.spearmanr(et_rank,ert_rank)"
   ]
  },
  {
   "cell_type": "code",
   "execution_count": null,
   "id": "bc1760c1-17bc-45a9-bf09-50c959344e14",
   "metadata": {},
   "outputs": [],
   "source": []
  }
 ],
 "metadata": {
  "kernelspec": {
   "display_name": "Python 3 (ipykernel)",
   "language": "python",
   "name": "python3"
  },
  "language_info": {
   "codemirror_mode": {
    "name": "ipython",
    "version": 3
   },
   "file_extension": ".py",
   "mimetype": "text/x-python",
   "name": "python",
   "nbconvert_exporter": "python",
   "pygments_lexer": "ipython3",
   "version": "3.10.9"
  }
 },
 "nbformat": 4,
 "nbformat_minor": 5
}
