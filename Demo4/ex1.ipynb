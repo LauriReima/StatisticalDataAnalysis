{
 "cells": [
  {
   "cell_type": "markdown",
   "id": "f2aca1d8-c654-4306-9e8f-532eada5f8f6",
   "metadata": {},
   "source": [
    "\n",
    "1. Apply a multivariable test and obtain P-value for the following 3 datasets.\n",
    "a) Dice data: 2, 3, 5, 4, 4, 3 4, 2, 3, 5, 2, 3 3, 1, 4, 4, 3, 5\n",
    "b) Nordic countries: Fi,Sw,Fi,No,Sw,Fi No,Sw,No,Fi,Fi,Fi Sw,Fi,No,Sw,Sw,No"
   ]
  },
  {
   "cell_type": "code",
   "execution_count": 13,
   "id": "740fb4a7-3d0b-404a-8fdb-9f529d7fa8ab",
   "metadata": {},
   "outputs": [],
   "source": [
    "import numpy as np\n",
    "import pandas as pd\n",
    "from scipy.stats import chi2_contingency"
   ]
  },
  {
   "cell_type": "code",
   "execution_count": 14,
   "id": "851412e9-4e8a-45c5-8b3e-28f82efcbd7a",
   "metadata": {},
   "outputs": [],
   "source": [
    "# a)\n",
    "dice1 = pd.Series([2, 3, 5, 4, 4, 3])\n",
    "dice2 = pd.Series([4, 2, 3, 5, 2, 3])\n",
    "dice3 = pd.Series([3, 1, 4, 4, 3, 5])"
   ]
  },
  {
   "cell_type": "code",
   "execution_count": 24,
   "id": "dad411be-36cb-41ed-a98f-d04ce97aa255",
   "metadata": {},
   "outputs": [
    {
     "data": {
      "text/plain": [
       "array([[2, 3, 5, 4, 4, 3],\n",
       "       [4, 2, 3, 5, 2, 3],\n",
       "       [3, 1, 4, 4, 3, 5]])"
      ]
     },
     "execution_count": 24,
     "metadata": {},
     "output_type": "execute_result"
    }
   ],
   "source": [
    "data=np.array([dice1,dice2,dice3]) \n",
    "data\n",
    "#chi2_contingency(data)[1]"
   ]
  },
  {
   "cell_type": "code",
   "execution_count": 18,
   "id": "b99fdc31-832f-46d0-b6c2-6f28ab9b0e9f",
   "metadata": {},
   "outputs": [],
   "source": [
    "# b)\n",
    "df = pd.DataFrame({\n",
    "    'Category1': ['Fi', 'Sw', 'Fi', 'No', 'Sw', 'Fi', 'No', 'Sw', 'No', 'Fi', 'Fi', 'Fi', 'Sw', 'Fi', 'No', 'Sw', 'Sw', 'No'],\n",
    "    'Category2': ['CategoryA'] * 6 + ['CategoryB'] * 6  + ['CategoryC'] * 6\n",
    "})\n",
    "contingency_table = pd.crosstab(df['Category1'], df['Category2'])"
   ]
  },
  {
   "cell_type": "code",
   "execution_count": 21,
   "id": "5808de39-9c35-4e83-a6f3-04a0ac669fb6",
   "metadata": {},
   "outputs": [],
   "source": [
    "chi2= chi2_contingency(contingency_table)"
   ]
  },
  {
   "cell_type": "code",
   "execution_count": 22,
   "id": "de1f6b67-498f-4a1b-9cbe-cc3256fa7c3f",
   "metadata": {},
   "outputs": [
    {
     "data": {
      "text/plain": [
       "Chi2ContingencyResult(statistic=2.5428571428571427, pvalue=0.6369783501089177, dof=4, expected_freq=array([[2.33333333, 2.33333333, 2.33333333],\n",
       "       [1.66666667, 1.66666667, 1.66666667],\n",
       "       [2.        , 2.        , 2.        ]]))"
      ]
     },
     "execution_count": 22,
     "metadata": {},
     "output_type": "execute_result"
    }
   ],
   "source": [
    "chi2"
   ]
  },
  {
   "cell_type": "code",
   "execution_count": 26,
   "id": "265ad91c-1ed1-41c7-a1d3-1fe64cb0ce7d",
   "metadata": {},
   "outputs": [
    {
     "name": "stdout",
     "output_type": "stream",
     "text": [
      "1 -> 4 -> 3 -> None\n"
     ]
    }
   ],
   "source": [
    "class Node:\n",
    "    def __init__(self, data):\n",
    "        self.data = data\n",
    "        self.next = None\n",
    "\n",
    "class LinkedList:\n",
    "    def __init__(self):\n",
    "        self.head = None\n",
    "\n",
    "    def append(self, data):\n",
    "        new_node = Node(data)\n",
    "        if not self.head:\n",
    "            self.head = new_node\n",
    "            return\n",
    "        current = self.head\n",
    "        while current.next:\n",
    "            current = current.next\n",
    "        current.next = new_node\n",
    "\n",
    "    def display(self):\n",
    "        current = self.head\n",
    "        while current:\n",
    "            print(current.data, end=' -> ')\n",
    "            current = current.next\n",
    "        print(\"None\")\n",
    "\n",
    "# Create a linked list and append some elements\n",
    "my_list = LinkedList()\n",
    "my_list.append(1)\n",
    "my_list.append(4)\n",
    "my_list.append(3)\n",
    "\n",
    "# Display the linked list\n",
    "my_list.display()\n"
   ]
  },
  {
   "cell_type": "code",
   "execution_count": null,
   "id": "fed9e72e-4aee-4197-8658-c8dbee4e2c4d",
   "metadata": {},
   "outputs": [],
   "source": []
  }
 ],
 "metadata": {
  "kernelspec": {
   "display_name": "Python 3 (ipykernel)",
   "language": "python",
   "name": "python3"
  },
  "language_info": {
   "codemirror_mode": {
    "name": "ipython",
    "version": 3
   },
   "file_extension": ".py",
   "mimetype": "text/x-python",
   "name": "python",
   "nbconvert_exporter": "python",
   "pygments_lexer": "ipython3",
   "version": "3.10.9"
  }
 },
 "nbformat": 4,
 "nbformat_minor": 5
}
