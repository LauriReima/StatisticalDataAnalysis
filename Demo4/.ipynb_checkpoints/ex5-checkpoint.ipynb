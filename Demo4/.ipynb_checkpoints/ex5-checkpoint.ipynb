{
 "cells": [
  {
   "cell_type": "markdown",
   "id": "936cae3d-be85-4dee-bddd-d585947f5aad",
   "metadata": {},
   "source": [
    "5. In this exercise we use `Horse Colic data set` from https://archive.ics.uci.edu/ml/datasets/Horse+Colic (the `horse-colic.data` file under `Data Folder`), which contained in the UCI Machine Learning Repository. Download the data, read it to your software and make sure that the missing values (question marks) are handled correctly.\n"
   ]
  },
  {
   "cell_type": "markdown",
   "id": "292559a2-5599-42f7-bc75-9f6362ec48b4",
   "metadata": {},
   "source": [
    "Does the horse colic data provide statistical evidence that the mean `rectal temperature` or `age` or `pulse` are different between colic horses treated without surgery and those treated with surgery?"
   ]
  },
  {
   "cell_type": "code",
   "execution_count": 46,
   "id": "c1468209-0c90-42e2-91b9-aa95dcfb11dd",
   "metadata": {},
   "outputs": [],
   "source": [
    "import pandas as pd\n",
    "import numpy as np"
   ]
  },
  {
   "cell_type": "code",
   "execution_count": 60,
   "id": "869add81-f3fb-4b34-9828-bf6e407e17e9",
   "metadata": {},
   "outputs": [],
   "source": [
    "p = [i for i in range(1,30)]\n"
   ]
  },
  {
   "cell_type": "code",
   "execution_count": 61,
   "id": "e038348d-fbed-4ea6-a172-82171f0ff47f",
   "metadata": {},
   "outputs": [],
   "source": [
    "data = pd.read_csv('horse+colic/horse-colic.data', sep=' ',na_values=['?'],names=p)"
   ]
  },
  {
   "cell_type": "code",
   "execution_count": 89,
   "id": "2242661b-3d5a-4657-b3d0-e24f7620ff20",
   "metadata": {},
   "outputs": [],
   "source": [
    "column_name_changes = {\n",
    "    1: 'surgery',\n",
    "    2: 'age',\n",
    "    4: 'rectal_temp',\n",
    "    5: 'pulse'\n",
    "}\n",
    "\n",
    "# Rename columns using the rename method\n",
    "data.rename(columns=column_name_changes, inplace=True)\n",
    "\n",
    "data['surgery'].replace({1: 'yes', 2: 'no'}, inplace=True)\n"
   ]
  },
  {
   "cell_type": "code",
   "execution_count": 90,
   "id": "70a08c6b-cb1c-485c-9652-7bb332488417",
   "metadata": {},
   "outputs": [],
   "source": [
    "groups = data.groupby('surgery')\n"
   ]
  },
  {
   "cell_type": "code",
   "execution_count": 91,
   "id": "4b33159e-07c2-4bfd-a361-4bf21c9273cb",
   "metadata": {},
   "outputs": [
    {
     "data": {
      "text/html": [
       "<div>\n",
       "<style scoped>\n",
       "    .dataframe tbody tr th:only-of-type {\n",
       "        vertical-align: middle;\n",
       "    }\n",
       "\n",
       "    .dataframe tbody tr th {\n",
       "        vertical-align: top;\n",
       "    }\n",
       "\n",
       "    .dataframe thead tr th {\n",
       "        text-align: left;\n",
       "    }\n",
       "\n",
       "    .dataframe thead tr:last-of-type th {\n",
       "        text-align: right;\n",
       "    }\n",
       "</style>\n",
       "<table border=\"1\" class=\"dataframe\">\n",
       "  <thead>\n",
       "    <tr>\n",
       "      <th></th>\n",
       "      <th>age</th>\n",
       "      <th>rectal_temp</th>\n",
       "      <th>pulse</th>\n",
       "    </tr>\n",
       "    <tr>\n",
       "      <th></th>\n",
       "      <th>mean</th>\n",
       "      <th>mean</th>\n",
       "      <th>mean</th>\n",
       "    </tr>\n",
       "    <tr>\n",
       "      <th>surgery</th>\n",
       "      <th></th>\n",
       "      <th></th>\n",
       "      <th></th>\n",
       "    </tr>\n",
       "  </thead>\n",
       "  <tbody>\n",
       "    <tr>\n",
       "      <th>no</th>\n",
       "      <td>1.403361</td>\n",
       "      <td>38.204040</td>\n",
       "      <td>65.504505</td>\n",
       "    </tr>\n",
       "    <tr>\n",
       "      <th>yes</th>\n",
       "      <td>1.800000</td>\n",
       "      <td>38.143571</td>\n",
       "      <td>76.396341</td>\n",
       "    </tr>\n",
       "  </tbody>\n",
       "</table>\n",
       "</div>"
      ],
      "text/plain": [
       "              age rectal_temp      pulse\n",
       "             mean        mean       mean\n",
       "surgery                                 \n",
       "no       1.403361   38.204040  65.504505\n",
       "yes      1.800000   38.143571  76.396341"
      ]
     },
     "execution_count": 91,
     "metadata": {},
     "output_type": "execute_result"
    }
   ],
   "source": [
    "groups[['age', 'rectal_temp', 'pulse']].aggregate([np.mean,])"
   ]
  },
  {
   "cell_type": "markdown",
   "id": "7554615f-d81d-4b75-8166-19d28d967f2f",
   "metadata": {},
   "source": [
    "Older horses has more surgerys;\n",
    "Mean temperature is little lower with horses that has underwent surgery;\n",
    "Mean pulse is a lot higher with horses that has underwent surgery"
   ]
  },
  {
   "cell_type": "code",
   "execution_count": null,
   "id": "805c82fc-d170-4f49-950b-aa62998eb51a",
   "metadata": {},
   "outputs": [],
   "source": []
  }
 ],
 "metadata": {
  "kernelspec": {
   "display_name": "Python 3 (ipykernel)",
   "language": "python",
   "name": "python3"
  },
  "language_info": {
   "codemirror_mode": {
    "name": "ipython",
    "version": 3
   },
   "file_extension": ".py",
   "mimetype": "text/x-python",
   "name": "python",
   "nbconvert_exporter": "python",
   "pygments_lexer": "ipython3",
   "version": "3.10.9"
  }
 },
 "nbformat": 4,
 "nbformat_minor": 5
}
