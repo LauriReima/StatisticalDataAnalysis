{
 "cells": [
  {
   "cell_type": "markdown",
   "id": "f2aca1d8-c654-4306-9e8f-532eada5f8f6",
   "metadata": {},
   "source": [
    "\n",
    "1. Apply a multivariable test and obtain P-value for the following 3 datasets.\n",
    "a) Dice data: 2, 3, 5, 4, 4, 3 4, 2, 3, 5, 2, 3 3, 1, 4, 4, 3, 5\n",
    "b) Nordic countries: Fi,Sw,Fi,No,Sw,Fi No,Sw,No,Fi,Fi,Fi Sw,Fi,No,Sw,Sw,No"
   ]
  },
  {
   "cell_type": "code",
   "execution_count": 13,
   "id": "740fb4a7-3d0b-404a-8fdb-9f529d7fa8ab",
   "metadata": {},
   "outputs": [],
   "source": [
    "import numpy as np\n",
    "import pandas as pd\n",
    "from scipy.stats import chi2_contingency"
   ]
  },
  {
   "cell_type": "code",
   "execution_count": 14,
   "id": "851412e9-4e8a-45c5-8b3e-28f82efcbd7a",
   "metadata": {},
   "outputs": [],
   "source": [
    "# a)\n",
    "dice1 = pd.Series([2, 3, 5, 4, 4, 3])\n",
    "dice2 = pd.Series([4, 2, 3, 5, 2, 3])\n",
    "dice3 = pd.Series([3, 1, 4, 4, 3, 5])"
   ]
  },
  {
   "cell_type": "code",
   "execution_count": 15,
   "id": "dad411be-36cb-41ed-a98f-d04ce97aa255",
   "metadata": {},
   "outputs": [
    {
     "data": {
      "text/plain": [
       "0.9636015962401362"
      ]
     },
     "execution_count": 15,
     "metadata": {},
     "output_type": "execute_result"
    }
   ],
   "source": [
    "data=np.array([dice1,dice2,dice3]) \n",
    "chi2_contingency(data)[1]"
   ]
  },
  {
   "cell_type": "code",
   "execution_count": 18,
   "id": "b99fdc31-832f-46d0-b6c2-6f28ab9b0e9f",
   "metadata": {},
   "outputs": [],
   "source": [
    "# b)\n",
    "df = pd.DataFrame({\n",
    "    'Category1': ['Fi', 'Sw', 'Fi', 'No', 'Sw', 'Fi', 'No', 'Sw', 'No', 'Fi', 'Fi', 'Fi', 'Sw', 'Fi', 'No', 'Sw', 'Sw', 'No'],\n",
    "    'Category2': ['CategoryA'] * 6 + ['CategoryB'] * 6  + ['CategoryC'] * 6\n",
    "})\n",
    "contingency_table = pd.crosstab(df['Category1'], df['Category2'])"
   ]
  },
  {
   "cell_type": "code",
   "execution_count": 19,
   "id": "5808de39-9c35-4e83-a6f3-04a0ac669fb6",
   "metadata": {},
   "outputs": [],
   "source": [
    "chi2, p, _, _ = chi2_contingency(contingency_table)"
   ]
  },
  {
   "cell_type": "code",
   "execution_count": 20,
   "id": "de1f6b67-498f-4a1b-9cbe-cc3256fa7c3f",
   "metadata": {},
   "outputs": [
    {
     "data": {
      "text/plain": [
       "0.6369783501089177"
      ]
     },
     "execution_count": 20,
     "metadata": {},
     "output_type": "execute_result"
    }
   ],
   "source": [
    "p"
   ]
  },
  {
   "cell_type": "code",
   "execution_count": null,
   "id": "265ad91c-1ed1-41c7-a1d3-1fe64cb0ce7d",
   "metadata": {},
   "outputs": [],
   "source": []
  }
 ],
 "metadata": {
  "kernelspec": {
   "display_name": "Python 3 (ipykernel)",
   "language": "python",
   "name": "python3"
  },
  "language_info": {
   "codemirror_mode": {
    "name": "ipython",
    "version": 3
   },
   "file_extension": ".py",
   "mimetype": "text/x-python",
   "name": "python",
   "nbconvert_exporter": "python",
   "pygments_lexer": "ipython3",
   "version": "3.10.9"
  }
 },
 "nbformat": 4,
 "nbformat_minor": 5
}
