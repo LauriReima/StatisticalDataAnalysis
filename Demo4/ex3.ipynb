{
 "cells": [
  {
   "cell_type": "markdown",
   "id": "93ef890d-54ff-45cb-835d-8dea3dab2f02",
   "metadata": {},
   "source": [
    "3. In this exercise we consider file simulated_data_3_5.csv. It has four groups of 100 observation: F, G, H and I. Apply multivariable test and obtain P-value\n",
    "a) to compare columns F, G and H.\n",
    "b) to compare columns F, G and I."
   ]
  },
  {
   "cell_type": "code",
   "execution_count": 24,
   "id": "e0bb928b-fd64-4a42-8174-77fa5707f3ea",
   "metadata": {},
   "outputs": [],
   "source": [
    "import pandas as pd\n",
    "import scipy\n",
    "from scipy import stats\n",
    "import statsmodels as sm"
   ]
  },
  {
   "cell_type": "code",
   "execution_count": 6,
   "id": "2767bc79-3dc0-4434-874d-c5e20eb4f4e7",
   "metadata": {},
   "outputs": [],
   "source": [
    "data = pd.read_csv('../Demo3/simulated_data_2_5.csv')"
   ]
  },
  {
   "cell_type": "code",
   "execution_count": 8,
   "id": "2407888f-970a-418a-82f0-3e71ecbb3932",
   "metadata": {},
   "outputs": [],
   "source": [
    "F = data['F']\n",
    "G = data['G']\n",
    "H = data['H']\n",
    "I = data['I']"
   ]
  },
  {
   "cell_type": "code",
   "execution_count": 12,
   "id": "98beede9-1557-4d64-9d1c-8fab2ace50be",
   "metadata": {},
   "outputs": [],
   "source": [
    "Fn = scipy.stats.shapiro(F)[1]\n",
    "Gn = scipy.stats.shapiro(G)[1]\n",
    "Hn = scipy.stats.shapiro(H)[1]\n",
    "In = scipy.stats.shapiro(I)[1]"
   ]
  },
  {
   "cell_type": "code",
   "execution_count": 16,
   "id": "1b1915b4-ab50-4cd3-9864-0f7e67915eaa",
   "metadata": {},
   "outputs": [
    {
     "name": "stdout",
     "output_type": "stream",
     "text": [
      "F:  0.16530661284923553 \n",
      " G:  0.4589977264404297 \n",
      " H:  0.9414515495300293 \n",
      " I:  0.0012272647581994534\n"
     ]
    }
   ],
   "source": [
    "print('F: ',Fn,'\\n','G: ', Gn,'\\n','H: ', Hn,'\\n','I: ', In)"
   ]
  },
  {
   "cell_type": "code",
   "execution_count": 17,
   "id": "af3237c1-5da6-4e6f-a58a-8ff4f5e10060",
   "metadata": {},
   "outputs": [],
   "source": [
    "# Normal: F, G and H. I is not"
   ]
  },
  {
   "cell_type": "code",
   "execution_count": 43,
   "id": "4ad6e5e8-dad1-42a1-a97c-11bd4733cc38",
   "metadata": {},
   "outputs": [],
   "source": [
    "dfa=pd.DataFrame({\"F\":F,\"G\":G,\"H\":H})\n",
    "dfb=pd.DataFrame({\"F\":F,\"G\":G,\"I\":I})"
   ]
  },
  {
   "cell_type": "code",
   "execution_count": 44,
   "id": "30981b3e-95bf-40f6-ad54-a6d728da19d1",
   "metadata": {},
   "outputs": [],
   "source": [
    "# a) all are normal\n",
    "modified_data=pd.melt(dfa,value_vars=['F','G','H'])\n",
    "modified_data.columns=['dataset','value']\n",
    "model=sm.formula.api.ols('value~C(dataset)',data=modified_data).fit()"
   ]
  },
  {
   "cell_type": "code",
   "execution_count": 60,
   "id": "b9b00eef-8f9f-4e84-860b-300ffa237be9",
   "metadata": {},
   "outputs": [
    {
     "data": {
      "text/html": [
       "<div>\n",
       "<style scoped>\n",
       "    .dataframe tbody tr th:only-of-type {\n",
       "        vertical-align: middle;\n",
       "    }\n",
       "\n",
       "    .dataframe tbody tr th {\n",
       "        vertical-align: top;\n",
       "    }\n",
       "\n",
       "    .dataframe thead th {\n",
       "        text-align: right;\n",
       "    }\n",
       "</style>\n",
       "<table border=\"1\" class=\"dataframe\">\n",
       "  <thead>\n",
       "    <tr style=\"text-align: right;\">\n",
       "      <th></th>\n",
       "      <th>df</th>\n",
       "      <th>sum_sq</th>\n",
       "      <th>mean_sq</th>\n",
       "      <th>F</th>\n",
       "      <th>PR(&gt;F)</th>\n",
       "    </tr>\n",
       "  </thead>\n",
       "  <tbody>\n",
       "    <tr>\n",
       "      <th>C(dataset)</th>\n",
       "      <td>2.0</td>\n",
       "      <td>1655.589235</td>\n",
       "      <td>827.794617</td>\n",
       "      <td>3.246674</td>\n",
       "      <td>0.040288</td>\n",
       "    </tr>\n",
       "    <tr>\n",
       "      <th>Residual</th>\n",
       "      <td>297.0</td>\n",
       "      <td>75725.191665</td>\n",
       "      <td>254.966975</td>\n",
       "      <td>NaN</td>\n",
       "      <td>NaN</td>\n",
       "    </tr>\n",
       "  </tbody>\n",
       "</table>\n",
       "</div>"
      ],
      "text/plain": [
       "               df        sum_sq     mean_sq         F    PR(>F)\n",
       "C(dataset)    2.0   1655.589235  827.794617  3.246674  0.040288\n",
       "Residual    297.0  75725.191665  254.966975       NaN       NaN"
      ]
     },
     "execution_count": 60,
     "metadata": {},
     "output_type": "execute_result"
    }
   ],
   "source": [
    "anova= sm.api.stats.anova_lm(model,typ=1) \n",
    "anova"
   ]
  },
  {
   "cell_type": "code",
   "execution_count": 61,
   "id": "678978c8-410a-4d8b-ae42-d19f75a55846",
   "metadata": {},
   "outputs": [
    {
     "name": "stdout",
     "output_type": "stream",
     "text": [
      "p-value is:  0.040288402932985905\n"
     ]
    }
   ],
   "source": [
    "print('p-value is: ',anova.iloc[0]['PR(>F)'])"
   ]
  },
  {
   "cell_type": "code",
   "execution_count": 65,
   "id": "2b70a182-4cf5-4a90-ad72-f94cb41101f1",
   "metadata": {},
   "outputs": [
    {
     "data": {
      "text/plain": [
       "1.1990327166649803e-08"
      ]
     },
     "execution_count": 65,
     "metadata": {},
     "output_type": "execute_result"
    }
   ],
   "source": [
    "# b) not all normal\n",
    "scipy.stats.kruskal(dfb['F'],dfb['G'],dfb['I'])[1]"
   ]
  },
  {
   "cell_type": "code",
   "execution_count": null,
   "id": "6b6fde18-a4c2-44dc-b50b-687c6ff0fe2b",
   "metadata": {},
   "outputs": [],
   "source": []
  }
 ],
 "metadata": {
  "kernelspec": {
   "display_name": "Python 3 (ipykernel)",
   "language": "python",
   "name": "python3"
  },
  "language_info": {
   "codemirror_mode": {
    "name": "ipython",
    "version": 3
   },
   "file_extension": ".py",
   "mimetype": "text/x-python",
   "name": "python",
   "nbconvert_exporter": "python",
   "pygments_lexer": "ipython3",
   "version": "3.10.9"
  }
 },
 "nbformat": 4,
 "nbformat_minor": 5
}
